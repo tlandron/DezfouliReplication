{
 "cells": [
  {
   "cell_type": "code",
   "execution_count": 4,
   "metadata": {
    "collapsed": true
   },
   "outputs": [],
   "source": [
    "t_max = 2001"
   ]
  },
  {
   "cell_type": "code",
   "execution_count": null,
   "metadata": {
    "collapsed": true
   },
   "outputs": [],
   "source": [
    "μ_c = 2.0  # average cocaine reward\n",
    "λ   = None # speed of deviation for kappa\n",
    "N   = None # maximum level of deviation for kappa"
   ]
  },
  {
   "cell_type": "code",
   "execution_count": 5,
   "metadata": {},
   "outputs": [],
   "source": [
    "# for simplicity, the reward is approximated as a constant\n",
    "r = N * [μ_c]"
   ]
  },
  {
   "cell_type": "markdown",
   "metadata": {},
   "source": [
    "In the following, using `None` for unitialized variable creates errors when non-defined values are used."
   ]
  },
  {
   "cell_type": "code",
   "execution_count": null,
   "metadata": {
    "collapsed": true
   },
   "outputs": [],
   "source": [
    "# average reward\n",
    "R̅    = [None] * t_max \n",
    "R̅[0] = 0\n",
    "\n",
    "# prediction error\n",
    "δ_c  = [None] * t_max \n",
    "\n",
    "# kappa, the quantity of the deviation of basal reward level from the average reward\n",
    "κ    = [None] * t_max # average reward\n",
    "κ[0] = 0"
   ]
  },
  {
   "cell_type": "code",
   "execution_count": null,
   "metadata": {
    "collapsed": true
   },
   "outputs": [],
   "source": [
    "def update_κ(t):\n",
    "    \"\"\"Compute κ(t+1)\"\"\"\n",
    "    κ[t+1] = (1 - λ) * κ[t] + λ * N\n",
    "\n",
    "def update_δ_c(t):\n",
    "    \"\"\"Compute δ_c(t)\"\"\"\n",
    "    δ_c[t] = max(r[t] + V[t+1] - Q[t] + D[t], D[t]) - R̅[t]\n",
    "    \n",
    "δ_c_t = max()"
   ]
  }
 ],
 "metadata": {
  "kernelspec": {
   "display_name": "Python 3",
   "language": "python",
   "name": "python3"
  },
  "language_info": {
   "codemirror_mode": {
    "name": "ipython",
    "version": 3
   },
   "file_extension": ".py",
   "mimetype": "text/x-python",
   "name": "python",
   "nbconvert_exporter": "python",
   "pygments_lexer": "ipython3",
   "version": "3.6.1"
  }
 },
 "nbformat": 4,
 "nbformat_minor": 2
}
